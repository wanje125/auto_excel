{
 "cells": [
  {
   "cell_type": "code",
   "execution_count": 1,
   "id": "f992013f",
   "metadata": {
    "scrolled": true
   },
   "outputs": [
    {
     "name": "stdout",
     "output_type": "stream",
     "text": [
      "Defaulting to user installation because normal site-packages is not writeable\n",
      "Requirement already satisfied: numpy in /usr/lib/python3/dist-packages (1.21.5)\n",
      "Defaulting to user installation because normal site-packages is not writeable\n",
      "Collecting pandas\n",
      "  Downloading pandas-1.4.3-cp310-cp310-manylinux_2_17_x86_64.manylinux2014_x86_64.whl (11.6 MB)\n",
      "\u001b[2K     \u001b[90m━━━━━━━━━━━━━━━━━━━━━━━━━━━━━━━━━━━━━━━━\u001b[0m \u001b[32m11.6/11.6 MB\u001b[0m \u001b[31m4.1 MB/s\u001b[0m eta \u001b[36m0:00:00\u001b[0m00:01\u001b[0m00:01\u001b[0m\n",
      "\u001b[?25hRequirement already satisfied: pytz>=2020.1 in /usr/lib/python3/dist-packages (from pandas) (2022.1)\n",
      "Requirement already satisfied: python-dateutil>=2.8.1 in /home/wanje/.local/lib/python3.10/site-packages (from pandas) (2.8.2)\n",
      "Requirement already satisfied: numpy>=1.21.0 in /usr/lib/python3/dist-packages (from pandas) (1.21.5)\n",
      "Requirement already satisfied: six>=1.5 in /usr/lib/python3/dist-packages (from python-dateutil>=2.8.1->pandas) (1.16.0)\n",
      "Installing collected packages: pandas\n",
      "Successfully installed pandas-1.4.3\n"
     ]
    }
   ],
   "source": [
    "!pip install numpy\n",
    "!pip install pandas\n",
    "!pip install xlrd\n"
   ]
  },
  {
   "cell_type": "code",
   "execution_count": 27,
   "id": "79ee0fa9",
   "metadata": {},
   "outputs": [
    {
     "name": "stdout",
     "output_type": "stream",
     "text": [
      "('052', '123', '4567')\n",
      "052-123-4567\n",
      "052-123-4567\n",
      "052\n",
      "123\n",
      "4567\n"
     ]
    }
   ],
   "source": [
    "import re\n",
    "\n",
    "result = re.match('(\\d{2,3})-(\\d{3,4})-(\\d{4})', '052-123-4567')\n",
    "print(result.groups())\n",
    "print(result.group())\n",
    "print(result.group(0))\n",
    "print(result.group(1))\n",
    "print(result.group(2))\n",
    "print(result.group(3))\n",
    "\n",
    "\n",
    "# ('02', '123', '1234')\n",
    "# 02-123-1234\n",
    "# 02-123-1234\n",
    "# 02\n",
    "# 123"
   ]
  },
  {
   "cell_type": "code",
   "execution_count": 2,
   "id": "e79d8b35",
   "metadata": {},
   "outputs": [
    {
     "name": "stdout",
     "output_type": "stream",
     "text": [
      "Defaulting to user installation because normal site-packages is not writeable\n",
      "Collecting openpyxl\n",
      "  Downloading openpyxl-3.0.10-py2.py3-none-any.whl (242 kB)\n",
      "\u001b[2K     \u001b[90m━━━━━━━━━━━━━━━━━━━━━━━━━━━━━━━━━━━━━━━\u001b[0m \u001b[32m242.1/242.1 KB\u001b[0m \u001b[31m2.9 MB/s\u001b[0m eta \u001b[36m0:00:00\u001b[0ma \u001b[36m0:00:01\u001b[0m\n",
      "\u001b[?25hCollecting et-xmlfile\n",
      "  Downloading et_xmlfile-1.1.0-py3-none-any.whl (4.7 kB)\n",
      "Installing collected packages: et-xmlfile, openpyxl\n",
      "Successfully installed et-xmlfile-1.1.0 openpyxl-3.0.10\n"
     ]
    }
   ],
   "source": [
    "!pip install openpyxl"
   ]
  },
  {
   "cell_type": "code",
   "execution_count": 64,
   "id": "7f77e1c3",
   "metadata": {},
   "outputs": [],
   "source": [
    "import pandas as pd"
   ]
  },
  {
   "cell_type": "code",
   "execution_count": 65,
   "id": "145df5f0",
   "metadata": {},
   "outputs": [],
   "source": [
    "receive = pd.read_excel('receive.xlsx')"
   ]
  },
  {
   "cell_type": "code",
   "execution_count": 66,
   "id": "7583ed2a",
   "metadata": {},
   "outputs": [
    {
     "data": {
      "text/plain": [
       "Index(['구매자명', '수취인명', '수취인연락처1', '배송지', '상품명', '옵션정보', '수량', '주문번호', '상품주문번호',\n",
       "       '배송방법(구매자 요청)', '택배사', '송장번호', '배송방법', '발송일', '판매채널', '구매자ID', '주문상태',\n",
       "       '주문세부상태', '결제위치', '결제일', '상품번호', '상품종류', '옵션관리코드', '옵션가격', '반품안심케어',\n",
       "       '상품가격', '상품별 할인액', '판매자 부담 할인액', '상품별 총 주문금액', '사은품', '발주확인일', '발송기한',\n",
       "       '발송처리일', '송장출력일', '배송비 형태', '배송비 묶음번호', '배송비 유형', '구매자연락처', '배송비 합계',\n",
       "       '제주/도서 추가배송비', '배송비 할인액', '판매자 상품코드', '판매자 내부코드1', '판매자 내부코드2',\n",
       "       '수취인연락처2', '풀필먼트사(주문 기준)', '우편번호', '배송메세지', '출고지', '결제수단', '개인통관고유부호',\n",
       "       '주문일시', '배송속성', '배송희망일'],\n",
       "      dtype='object')"
      ]
     },
     "execution_count": 66,
     "metadata": {},
     "output_type": "execute_result"
    }
   ],
   "source": [
    "receive.columns"
   ]
  },
  {
   "cell_type": "code",
   "execution_count": 67,
   "id": "eca88da1",
   "metadata": {},
   "outputs": [
    {
     "data": {
      "text/plain": [
       "Index(['NO', 'Unnamed: 1', '선택', '접수 순서', '예약 구분', '상태', '집화예정일자', '운송장번호',\n",
       "       '집화예정점소', '보내는분', '보내는분 전화번호', '운임 구분', '박스 타입', '수량', '내품수량', '기본운임',\n",
       "       '기타운임', '운임합계', '고객주문번호', '배송계획점소', '받는분', '받는분 전화번호', '받는분  우편번호',\n",
       "       '받는분주소', '상품코드', '상품명', '단품코드', '단품명', '배달메시지', '기타1', '기타2', '기타3',\n",
       "       '기타4', '기타5', '기타6', '기타7', '기타8', '기타9', '기타10'],\n",
       "      dtype='object')"
      ]
     },
     "execution_count": 67,
     "metadata": {},
     "output_type": "execute_result"
    }
   ],
   "source": [
    "send = pd.read_excel('send.xlsx')\n",
    "send.columns"
   ]
  },
  {
   "cell_type": "code",
   "execution_count": 68,
   "id": "43f1c810",
   "metadata": {},
   "outputs": [
    {
     "data": {
      "text/plain": [
       "0      010-8948-1484\n",
       "1      010-4154-8898\n",
       "2      010-2350-4845\n",
       "3      010-1548-8412\n",
       "4     0502-1454-2701\n",
       "5     0502-8984-6050\n",
       "6      010-5318-1219\n",
       "7      010-4848-9948\n",
       "8      010-9868-1111\n",
       "9      010-4370-3232\n",
       "10     010-4370-3232\n",
       "11               NaN\n",
       "12               NaN\n",
       "13               NaN\n",
       "14               NaN\n",
       "15               NaN\n",
       "16               NaN\n",
       "17               NaN\n",
       "18               NaN\n",
       "19               NaN\n",
       "Name: 수취인연락처1, dtype: object"
      ]
     },
     "execution_count": 68,
     "metadata": {},
     "output_type": "execute_result"
    }
   ],
   "source": [
    "receive['수취인연락처1']"
   ]
  },
  {
   "cell_type": "code",
   "execution_count": 69,
   "id": "bd1b4d85",
   "metadata": {},
   "outputs": [
    {
     "name": "stdout",
     "output_type": "stream",
     "text": [
      "<re.Match object; span=(0, 10), match='1031913232'>\n"
     ]
    }
   ],
   "source": [
    "p = '\\d{2}\\d{4}\\d{4}'\n",
    "m = re.match(pattern=p, string='1031913232.0')\n",
    "print(m)"
   ]
  },
  {
   "cell_type": "code",
   "execution_count": 70,
   "id": "0c1edb5c",
   "metadata": {},
   "outputs": [
    {
     "data": {
      "text/plain": [
       "0      1031913232.0\n",
       "1      1089481484.0\n",
       "2      1041548898.0\n",
       "3      1024184444.0\n",
       "4      1053181219.0\n",
       "5      1074027982.0\n",
       "6      1045744878.0\n",
       "7      1043703232.0\n",
       "8      1055192323.0\n",
       "9      1098681111.0\n",
       "10     1096648429.0\n",
       "11     1023686969.0\n",
       "12     1075355428.0\n",
       "13     1023504845.0\n",
       "14     1023705324.0\n",
       "15     1065580707.0\n",
       "16     1028381400.0\n",
       "17     1049447475.0\n",
       "18     1020368672.0\n",
       "19     1048489948.0\n",
       "20     1062416352.0\n",
       "21     1031734848.0\n",
       "22     1046463128.0\n",
       "23    50215763333.0\n",
       "24    50289846050.0\n",
       "25     1056444875.0\n",
       "26    50214542701.0\n",
       "27    50234762315.0\n",
       "28     1085858039.0\n",
       "29     1015488412.0\n",
       "30              nan\n",
       "31              nan\n",
       "32              nan\n",
       "33              nan\n",
       "34              nan\n",
       "35              nan\n",
       "Name: 받는분 전화번호, dtype: object"
      ]
     },
     "execution_count": 70,
     "metadata": {},
     "output_type": "execute_result"
    }
   ],
   "source": [
    "send['받는분 전화번호'].astype(str)\n"
   ]
  },
  {
   "cell_type": "code",
   "execution_count": 71,
   "id": "802abc2c",
   "metadata": {},
   "outputs": [
    {
     "data": {
      "text/plain": [
       "받는분                    설종혁\n",
       "운송장번호       6502-6654-8354\n",
       "받는분 전화번호      1031913232.0\n",
       "Name: 0, dtype: object"
      ]
     },
     "execution_count": 71,
     "metadata": {},
     "output_type": "execute_result"
    }
   ],
   "source": [
    "number = send[['받는분','운송장번호','받는분 전화번호']]\n",
    "send['받는분 전화번호']\n",
    "number.iloc[0]"
   ]
  },
  {
   "cell_type": "code",
   "execution_count": 72,
   "id": "54b06f09",
   "metadata": {},
   "outputs": [
    {
     "data": {
      "text/html": [
       "<div>\n",
       "<style scoped>\n",
       "    .dataframe tbody tr th:only-of-type {\n",
       "        vertical-align: middle;\n",
       "    }\n",
       "\n",
       "    .dataframe tbody tr th {\n",
       "        vertical-align: top;\n",
       "    }\n",
       "\n",
       "    .dataframe thead th {\n",
       "        text-align: right;\n",
       "    }\n",
       "</style>\n",
       "<table border=\"1\" class=\"dataframe\">\n",
       "  <thead>\n",
       "    <tr style=\"text-align: right;\">\n",
       "      <th></th>\n",
       "      <th>수취인명</th>\n",
       "      <th>송장번호</th>\n",
       "    </tr>\n",
       "  </thead>\n",
       "  <tbody>\n",
       "    <tr>\n",
       "      <th>0</th>\n",
       "      <td>이상곤</td>\n",
       "      <td>NaN</td>\n",
       "    </tr>\n",
       "    <tr>\n",
       "      <th>1</th>\n",
       "      <td>배희영</td>\n",
       "      <td>NaN</td>\n",
       "    </tr>\n",
       "    <tr>\n",
       "      <th>2</th>\n",
       "      <td>이창희</td>\n",
       "      <td>NaN</td>\n",
       "    </tr>\n",
       "    <tr>\n",
       "      <th>3</th>\n",
       "      <td>이준희</td>\n",
       "      <td>NaN</td>\n",
       "    </tr>\n",
       "    <tr>\n",
       "      <th>4</th>\n",
       "      <td>오동현</td>\n",
       "      <td>NaN</td>\n",
       "    </tr>\n",
       "    <tr>\n",
       "      <th>5</th>\n",
       "      <td>오윤석</td>\n",
       "      <td>NaN</td>\n",
       "    </tr>\n",
       "    <tr>\n",
       "      <th>6</th>\n",
       "      <td>오세웅</td>\n",
       "      <td>NaN</td>\n",
       "    </tr>\n",
       "    <tr>\n",
       "      <th>7</th>\n",
       "      <td>최영희</td>\n",
       "      <td>NaN</td>\n",
       "    </tr>\n",
       "    <tr>\n",
       "      <th>8</th>\n",
       "      <td>조완제</td>\n",
       "      <td>NaN</td>\n",
       "    </tr>\n",
       "    <tr>\n",
       "      <th>9</th>\n",
       "      <td>조희제</td>\n",
       "      <td>NaN</td>\n",
       "    </tr>\n",
       "    <tr>\n",
       "      <th>10</th>\n",
       "      <td>조희제</td>\n",
       "      <td>NaN</td>\n",
       "    </tr>\n",
       "    <tr>\n",
       "      <th>11</th>\n",
       "      <td>NaN</td>\n",
       "      <td>NaN</td>\n",
       "    </tr>\n",
       "    <tr>\n",
       "      <th>12</th>\n",
       "      <td>NaN</td>\n",
       "      <td>NaN</td>\n",
       "    </tr>\n",
       "    <tr>\n",
       "      <th>13</th>\n",
       "      <td>NaN</td>\n",
       "      <td>NaN</td>\n",
       "    </tr>\n",
       "    <tr>\n",
       "      <th>14</th>\n",
       "      <td>NaN</td>\n",
       "      <td>NaN</td>\n",
       "    </tr>\n",
       "    <tr>\n",
       "      <th>15</th>\n",
       "      <td>NaN</td>\n",
       "      <td>NaN</td>\n",
       "    </tr>\n",
       "    <tr>\n",
       "      <th>16</th>\n",
       "      <td>NaN</td>\n",
       "      <td>NaN</td>\n",
       "    </tr>\n",
       "    <tr>\n",
       "      <th>17</th>\n",
       "      <td>NaN</td>\n",
       "      <td>NaN</td>\n",
       "    </tr>\n",
       "    <tr>\n",
       "      <th>18</th>\n",
       "      <td>NaN</td>\n",
       "      <td>NaN</td>\n",
       "    </tr>\n",
       "    <tr>\n",
       "      <th>19</th>\n",
       "      <td>NaN</td>\n",
       "      <td>NaN</td>\n",
       "    </tr>\n",
       "  </tbody>\n",
       "</table>\n",
       "</div>"
      ],
      "text/plain": [
       "   수취인명  송장번호\n",
       "0   이상곤   NaN\n",
       "1   배희영   NaN\n",
       "2   이창희   NaN\n",
       "3   이준희   NaN\n",
       "4   오동현   NaN\n",
       "5   오윤석   NaN\n",
       "6   오세웅   NaN\n",
       "7   최영희   NaN\n",
       "8   조완제   NaN\n",
       "9   조희제   NaN\n",
       "10  조희제   NaN\n",
       "11  NaN   NaN\n",
       "12  NaN   NaN\n",
       "13  NaN   NaN\n",
       "14  NaN   NaN\n",
       "15  NaN   NaN\n",
       "16  NaN   NaN\n",
       "17  NaN   NaN\n",
       "18  NaN   NaN\n",
       "19  NaN   NaN"
      ]
     },
     "execution_count": 72,
     "metadata": {},
     "output_type": "execute_result"
    }
   ],
   "source": [
    "receive[['수취인명','송장번호']]"
   ]
  },
  {
   "cell_type": "code",
   "execution_count": 73,
   "id": "b3f02ed2",
   "metadata": {},
   "outputs": [
    {
     "data": {
      "text/plain": [
       "0    NaN\n",
       "1    NaN\n",
       "2    NaN\n",
       "3    NaN\n",
       "4    NaN\n",
       "5    NaN\n",
       "6    NaN\n",
       "7    NaN\n",
       "8    NaN\n",
       "9    NaN\n",
       "10   NaN\n",
       "11   NaN\n",
       "12   NaN\n",
       "13   NaN\n",
       "14   NaN\n",
       "15   NaN\n",
       "16   NaN\n",
       "17   NaN\n",
       "18   NaN\n",
       "19   NaN\n",
       "Name: 송장번호, dtype: float64"
      ]
     },
     "execution_count": 73,
     "metadata": {},
     "output_type": "execute_result"
    }
   ],
   "source": [
    "receive['송장번호']"
   ]
  },
  {
   "cell_type": "code",
   "execution_count": 75,
   "id": "8d7f0d0f",
   "metadata": {},
   "outputs": [],
   "source": [
    "num = len(number)\n",
    "for i in range(num):\n",
    "    send_name = number.iloc[i,0]\n",
    "    phone_num = number.iloc[i,2].astype(str)\n",
    "    changed_num = '0' + phone_num[:-2]\n",
    "    if changed_num[:3]=='010':\n",
    "        real_num=changed_num[:3]+'-'+changed_num[3:-4]+'-'+changed_num[-4:]\n",
    "    else:\n",
    "        real_num=changed_num[:-8]+'-'+changed_num[-8:-4]+'-'+changed_num[-4:]\n",
    "    pick = (receive['수취인명']==send_name) & (receive['수취인연락처1']==real_num)\n",
    "    \n",
    "    receive.loc[pick,'송장번호']=number.iloc[i,1]\n",
    "    "
   ]
  },
  {
   "cell_type": "code",
   "execution_count": 76,
   "id": "c6b8ce05",
   "metadata": {
    "scrolled": false
   },
   "outputs": [
    {
     "data": {
      "text/plain": [
       "0     6502-6654-8365\n",
       "1     6502-6654-8376\n",
       "2     6502-6654-8483\n",
       "3     6502-6654-8656\n",
       "4     6502-6654-8623\n",
       "5     6502-6654-8590\n",
       "6     6502-6654-8391\n",
       "7     6502-6654-8542\n",
       "8     6502-6654-8446\n",
       "9     6502-6654-8424\n",
       "10    6502-6654-8424\n",
       "11               NaN\n",
       "12               NaN\n",
       "13               NaN\n",
       "14               NaN\n",
       "15               NaN\n",
       "16               NaN\n",
       "17               NaN\n",
       "18               NaN\n",
       "19               NaN\n",
       "Name: 송장번호, dtype: object"
      ]
     },
     "execution_count": 76,
     "metadata": {},
     "output_type": "execute_result"
    }
   ],
   "source": [
    "receive['송장번호']"
   ]
  },
  {
   "cell_type": "code",
   "execution_count": 77,
   "id": "4a74aa4b",
   "metadata": {},
   "outputs": [],
   "source": [
    "receive.to_excel('recevie_final.xlsx')"
   ]
  },
  {
   "cell_type": "code",
   "execution_count": null,
   "id": "eaf6b8e5",
   "metadata": {},
   "outputs": [],
   "source": []
  }
 ],
 "metadata": {
  "kernelspec": {
   "display_name": "Python 3 (ipykernel)",
   "language": "python",
   "name": "python3"
  },
  "language_info": {
   "codemirror_mode": {
    "name": "ipython",
    "version": 3
   },
   "file_extension": ".py",
   "mimetype": "text/x-python",
   "name": "python",
   "nbconvert_exporter": "python",
   "pygments_lexer": "ipython3",
   "version": "3.10.4"
  }
 },
 "nbformat": 4,
 "nbformat_minor": 5
}
